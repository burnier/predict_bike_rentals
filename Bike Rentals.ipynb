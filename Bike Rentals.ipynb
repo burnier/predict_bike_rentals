{
 "cells": [
  {
   "cell_type": "markdown",
   "metadata": {},
   "source": [
    "# Predicting Bike Rentals\n",
    "In this project we use a bike sharing data from Washington, D.C. The District collects detailed data on the number of bicycles people rent by the hour and day. The data is made available by the <a href=\"http://archive.ics.uci.edu/ml/datasets/Bike+Sharing+Dataset\">the University of California, Irvine's website</a>\n",
    "\n",
    "It is a CSV file containing following columns:\n",
    "* instant - A unique sequential ID number for each row\n",
    "* dteday - The date of the rentals\n",
    "* season - The season in which the rentals occurred\n",
    "* yr - The year the rentals occurred\n",
    "* mnth - The month the rentals occurred\n",
    "* hr - The hour the rentals occurred\n",
    "* holiday - Whether or not the day was a holiday\n",
    "* weekday - The day of the week (as a number, 0 to 7)\n",
    "* workingday - Whether or not the day was a working day\n",
    "* weathersit - The weather (as a categorical variable)\n",
    "* temp - The temperature, on a 0-1 scale\n",
    "* atemp - The adjusted temperature\n",
    "* hum - The humidity, on a 0-1 scale\n",
    "* windspeed - The wind speed, on a 0-1 scale\n",
    "* casual - The number of casual riders (people who hadn't previously signed up with the bike sharing program)\n",
    "* registered - The number of registered riders (people who had already signed up)\n",
    "* cnt - The total number of bike rentals (casual + registered)\n",
    "\n",
    "We will try to predict the total number of bikes people rented in a given hour - column `cnt` - using all other columns besides `casual` and `registered` as these sum up to `cnt`.\n",
    "\n",
    "The file contains 17380 rows, with each row representing the number of bike rentals for a single hour of a single day."
   ]
  },
  {
   "cell_type": "markdown",
   "metadata": {},
   "source": [
    "## 1. Import & Prepare Data"
   ]
  },
  {
   "cell_type": "code",
   "execution_count": 1,
   "metadata": {},
   "outputs": [],
   "source": [
    "import pandas as pd\n",
    "bike_rentals = pd.read_csv('bike_rental_hour.csv')\n",
    "# drop unused columns\n",
    "bike_rentals = bike_rentals.drop(columns=['casual','registered'])"
   ]
  },
  {
   "cell_type": "markdown",
   "metadata": {},
   "source": [
    "First we print some rows of the dataset and plot the distribution of the target column (cnt) in a histogram. "
   ]
  },
  {
   "cell_type": "code",
   "execution_count": 2,
   "metadata": {},
   "outputs": [
    {
     "data": {
      "text/html": [
       "<div>\n",
       "<style scoped>\n",
       "    .dataframe tbody tr th:only-of-type {\n",
       "        vertical-align: middle;\n",
       "    }\n",
       "\n",
       "    .dataframe tbody tr th {\n",
       "        vertical-align: top;\n",
       "    }\n",
       "\n",
       "    .dataframe thead th {\n",
       "        text-align: right;\n",
       "    }\n",
       "</style>\n",
       "<table border=\"1\" class=\"dataframe\">\n",
       "  <thead>\n",
       "    <tr style=\"text-align: right;\">\n",
       "      <th></th>\n",
       "      <th>instant</th>\n",
       "      <th>dteday</th>\n",
       "      <th>season</th>\n",
       "      <th>yr</th>\n",
       "      <th>mnth</th>\n",
       "      <th>hr</th>\n",
       "      <th>holiday</th>\n",
       "      <th>weekday</th>\n",
       "      <th>workingday</th>\n",
       "      <th>weathersit</th>\n",
       "      <th>temp</th>\n",
       "      <th>atemp</th>\n",
       "      <th>hum</th>\n",
       "      <th>windspeed</th>\n",
       "      <th>cnt</th>\n",
       "    </tr>\n",
       "  </thead>\n",
       "  <tbody>\n",
       "    <tr>\n",
       "      <th>0</th>\n",
       "      <td>1</td>\n",
       "      <td>2011-01-01</td>\n",
       "      <td>1</td>\n",
       "      <td>0</td>\n",
       "      <td>1</td>\n",
       "      <td>0</td>\n",
       "      <td>0</td>\n",
       "      <td>6</td>\n",
       "      <td>0</td>\n",
       "      <td>1</td>\n",
       "      <td>0.24</td>\n",
       "      <td>0.2879</td>\n",
       "      <td>0.81</td>\n",
       "      <td>0.0000</td>\n",
       "      <td>16</td>\n",
       "    </tr>\n",
       "    <tr>\n",
       "      <th>1</th>\n",
       "      <td>2</td>\n",
       "      <td>2011-01-01</td>\n",
       "      <td>1</td>\n",
       "      <td>0</td>\n",
       "      <td>1</td>\n",
       "      <td>1</td>\n",
       "      <td>0</td>\n",
       "      <td>6</td>\n",
       "      <td>0</td>\n",
       "      <td>1</td>\n",
       "      <td>0.22</td>\n",
       "      <td>0.2727</td>\n",
       "      <td>0.80</td>\n",
       "      <td>0.0000</td>\n",
       "      <td>40</td>\n",
       "    </tr>\n",
       "    <tr>\n",
       "      <th>2</th>\n",
       "      <td>3</td>\n",
       "      <td>2011-01-01</td>\n",
       "      <td>1</td>\n",
       "      <td>0</td>\n",
       "      <td>1</td>\n",
       "      <td>2</td>\n",
       "      <td>0</td>\n",
       "      <td>6</td>\n",
       "      <td>0</td>\n",
       "      <td>1</td>\n",
       "      <td>0.22</td>\n",
       "      <td>0.2727</td>\n",
       "      <td>0.80</td>\n",
       "      <td>0.0000</td>\n",
       "      <td>32</td>\n",
       "    </tr>\n",
       "    <tr>\n",
       "      <th>3</th>\n",
       "      <td>4</td>\n",
       "      <td>2011-01-01</td>\n",
       "      <td>1</td>\n",
       "      <td>0</td>\n",
       "      <td>1</td>\n",
       "      <td>3</td>\n",
       "      <td>0</td>\n",
       "      <td>6</td>\n",
       "      <td>0</td>\n",
       "      <td>1</td>\n",
       "      <td>0.24</td>\n",
       "      <td>0.2879</td>\n",
       "      <td>0.75</td>\n",
       "      <td>0.0000</td>\n",
       "      <td>13</td>\n",
       "    </tr>\n",
       "    <tr>\n",
       "      <th>4</th>\n",
       "      <td>5</td>\n",
       "      <td>2011-01-01</td>\n",
       "      <td>1</td>\n",
       "      <td>0</td>\n",
       "      <td>1</td>\n",
       "      <td>4</td>\n",
       "      <td>0</td>\n",
       "      <td>6</td>\n",
       "      <td>0</td>\n",
       "      <td>1</td>\n",
       "      <td>0.24</td>\n",
       "      <td>0.2879</td>\n",
       "      <td>0.75</td>\n",
       "      <td>0.0000</td>\n",
       "      <td>1</td>\n",
       "    </tr>\n",
       "    <tr>\n",
       "      <th>5</th>\n",
       "      <td>6</td>\n",
       "      <td>2011-01-01</td>\n",
       "      <td>1</td>\n",
       "      <td>0</td>\n",
       "      <td>1</td>\n",
       "      <td>5</td>\n",
       "      <td>0</td>\n",
       "      <td>6</td>\n",
       "      <td>0</td>\n",
       "      <td>2</td>\n",
       "      <td>0.24</td>\n",
       "      <td>0.2576</td>\n",
       "      <td>0.75</td>\n",
       "      <td>0.0896</td>\n",
       "      <td>1</td>\n",
       "    </tr>\n",
       "    <tr>\n",
       "      <th>6</th>\n",
       "      <td>7</td>\n",
       "      <td>2011-01-01</td>\n",
       "      <td>1</td>\n",
       "      <td>0</td>\n",
       "      <td>1</td>\n",
       "      <td>6</td>\n",
       "      <td>0</td>\n",
       "      <td>6</td>\n",
       "      <td>0</td>\n",
       "      <td>1</td>\n",
       "      <td>0.22</td>\n",
       "      <td>0.2727</td>\n",
       "      <td>0.80</td>\n",
       "      <td>0.0000</td>\n",
       "      <td>2</td>\n",
       "    </tr>\n",
       "    <tr>\n",
       "      <th>7</th>\n",
       "      <td>8</td>\n",
       "      <td>2011-01-01</td>\n",
       "      <td>1</td>\n",
       "      <td>0</td>\n",
       "      <td>1</td>\n",
       "      <td>7</td>\n",
       "      <td>0</td>\n",
       "      <td>6</td>\n",
       "      <td>0</td>\n",
       "      <td>1</td>\n",
       "      <td>0.20</td>\n",
       "      <td>0.2576</td>\n",
       "      <td>0.86</td>\n",
       "      <td>0.0000</td>\n",
       "      <td>3</td>\n",
       "    </tr>\n",
       "    <tr>\n",
       "      <th>8</th>\n",
       "      <td>9</td>\n",
       "      <td>2011-01-01</td>\n",
       "      <td>1</td>\n",
       "      <td>0</td>\n",
       "      <td>1</td>\n",
       "      <td>8</td>\n",
       "      <td>0</td>\n",
       "      <td>6</td>\n",
       "      <td>0</td>\n",
       "      <td>1</td>\n",
       "      <td>0.24</td>\n",
       "      <td>0.2879</td>\n",
       "      <td>0.75</td>\n",
       "      <td>0.0000</td>\n",
       "      <td>8</td>\n",
       "    </tr>\n",
       "    <tr>\n",
       "      <th>9</th>\n",
       "      <td>10</td>\n",
       "      <td>2011-01-01</td>\n",
       "      <td>1</td>\n",
       "      <td>0</td>\n",
       "      <td>1</td>\n",
       "      <td>9</td>\n",
       "      <td>0</td>\n",
       "      <td>6</td>\n",
       "      <td>0</td>\n",
       "      <td>1</td>\n",
       "      <td>0.32</td>\n",
       "      <td>0.3485</td>\n",
       "      <td>0.76</td>\n",
       "      <td>0.0000</td>\n",
       "      <td>14</td>\n",
       "    </tr>\n",
       "  </tbody>\n",
       "</table>\n",
       "</div>"
      ],
      "text/plain": [
       "   instant      dteday  season  yr  mnth  hr  holiday  weekday  workingday  \\\n",
       "0        1  2011-01-01       1   0     1   0        0        6           0   \n",
       "1        2  2011-01-01       1   0     1   1        0        6           0   \n",
       "2        3  2011-01-01       1   0     1   2        0        6           0   \n",
       "3        4  2011-01-01       1   0     1   3        0        6           0   \n",
       "4        5  2011-01-01       1   0     1   4        0        6           0   \n",
       "5        6  2011-01-01       1   0     1   5        0        6           0   \n",
       "6        7  2011-01-01       1   0     1   6        0        6           0   \n",
       "7        8  2011-01-01       1   0     1   7        0        6           0   \n",
       "8        9  2011-01-01       1   0     1   8        0        6           0   \n",
       "9       10  2011-01-01       1   0     1   9        0        6           0   \n",
       "\n",
       "   weathersit  temp   atemp   hum  windspeed  cnt  \n",
       "0           1  0.24  0.2879  0.81     0.0000   16  \n",
       "1           1  0.22  0.2727  0.80     0.0000   40  \n",
       "2           1  0.22  0.2727  0.80     0.0000   32  \n",
       "3           1  0.24  0.2879  0.75     0.0000   13  \n",
       "4           1  0.24  0.2879  0.75     0.0000    1  \n",
       "5           2  0.24  0.2576  0.75     0.0896    1  \n",
       "6           1  0.22  0.2727  0.80     0.0000    2  \n",
       "7           1  0.20  0.2576  0.86     0.0000    3  \n",
       "8           1  0.24  0.2879  0.75     0.0000    8  \n",
       "9           1  0.32  0.3485  0.76     0.0000   14  "
      ]
     },
     "execution_count": 2,
     "metadata": {},
     "output_type": "execute_result"
    }
   ],
   "source": [
    "bike_rentals.head(10)"
   ]
  },
  {
   "cell_type": "code",
   "execution_count": 3,
   "metadata": {},
   "outputs": [
    {
     "data": {
      "text/plain": [
       "<Figure size 640x480 with 1 Axes>"
      ]
     },
     "metadata": {},
     "output_type": "display_data"
    }
   ],
   "source": [
    "import matplotlib.pyplot as plt\n",
    "plt.hist(bike_rentals.cnt)\n",
    "plt.show()"
   ]
  },
  {
   "cell_type": "markdown",
   "metadata": {},
   "source": [
    "By visualizing the data we can move forward and choose other columns that will not be useful for our prediciton. Two good candidates are `instant`, which is a sequential ID and `dteday` which is also sequential and depicted more usefully by other time variables as `year`, `hour` or `month` "
   ]
  },
  {
   "cell_type": "code",
   "execution_count": 4,
   "metadata": {},
   "outputs": [],
   "source": [
    "bike_rentals = bike_rentals.drop(columns=['instant','dteday'])"
   ]
  },
  {
   "cell_type": "markdown",
   "metadata": {},
   "source": [
    "We can also visualize the distribution of bike rents per hour of the day - we see that most of the rents occur at 17 ad 18h - the typical rush hour, where people probably rent a bike to avoid the intense traffic."
   ]
  },
  {
   "cell_type": "code",
   "execution_count": 5,
   "metadata": {},
   "outputs": [
    {
     "data": {
      "image/png": "[encoded data removed]",
      "text/plain": [
       "<Figure size 432x288 with 1 Axes>"
      ]
     },
     "metadata": {
      "needs_background": "light"
     },
     "output_type": "display_data"
    }
   ],
   "source": [
    "df_hourly=bike_rentals.groupby('hr').agg(['sum']).reset_index()\n",
    "df_hourly.plot(x='hr', y='cnt',kind=\"bar\",color='orange')\n",
    "plt.show()"
   ]
  },
  {
   "cell_type": "markdown",
   "metadata": {},
   "source": [
    "As a next step we can check the correlation between the target value and the other columns, taking care to remove `casual` and `registered` and then plot a heatmap of the correlations to `cnt`."
   ]
  },
  {
   "cell_type": "code",
   "execution_count": 6,
   "metadata": {},
   "outputs": [
    {
     "data": {
      "image/png": "[encoded data removed]",
      "text/plain": [
       "<Figure size 432x288 with 2 Axes>"
      ]
     },
     "metadata": {
      "needs_background": "light"
     },
     "output_type": "display_data"
    }
   ],
   "source": [
    "import seaborn as sns\n",
    "\n",
    "corr_all = bike_rentals.corr()\n",
    "ax = sns.heatmap(corr_all)"
   ]
  },
  {
   "cell_type": "code",
   "execution_count": 7,
   "metadata": {},
   "outputs": [],
   "source": [
    "corr_cnt = corr_all.cnt\n",
    "#absolute values of correlations to cnt\n",
    "corr_cnt = corr_cnt.abs()\n",
    "sorted_corrs = corr_cnt.sort_values()"
   ]
  },
  {
   "cell_type": "code",
   "execution_count": 8,
   "metadata": {},
   "outputs": [
    {
     "data": {
      "text/plain": [
       "weekday       0.026900\n",
       "workingday    0.030284\n",
       "holiday       0.030927\n",
       "windspeed     0.093234\n",
       "mnth          0.120638\n",
       "weathersit    0.142426\n",
       "season        0.178056\n",
       "yr            0.250495\n",
       "hum           0.322911\n",
       "hr            0.394071\n",
       "atemp         0.400929\n",
       "temp          0.404772\n",
       "cnt           1.000000\n",
       "Name: cnt, dtype: float64"
      ]
     },
     "execution_count": 8,
     "metadata": {},
     "output_type": "execute_result"
    }
   ],
   "source": [
    "sorted_corrs"
   ]
  },
  {
   "cell_type": "markdown",
   "metadata": {},
   "source": [
    "We can see from both the heatmap and the sorted corrs that the columns with the highest correlations are atemp, temp and hr - It is clear that atemp and temp exibit a high collinearity and we can remove one of these columns without losing valuable information - I decide to remove the temp column as the atemp is more precise."
   ]
  },
  {
   "cell_type": "code",
   "execution_count": 9,
   "metadata": {},
   "outputs": [],
   "source": [
    "bike_rentals = bike_rentals.drop(columns=['temp'])"
   ]
  },
  {
   "cell_type": "markdown",
   "metadata": {},
   "source": [
    "After `temp`, the feature with the highest correlation to `cnt` is `hr`. This variable is cyclic, so the model should be able to capture the this cyclicity. One way to approach this problem is to introduce some order into the process by creating a new column with labels for **morning**, **afternoon**, **evening**, and **night**. This will bundle similar times together, enabling the model to make better decisions. For this purpose I have created a function and apply it to a new column called `time_label`"
   ]
  },
  {
   "cell_type": "code",
   "execution_count": 10,
   "metadata": {},
   "outputs": [],
   "source": [
    "def assign_label(hour):\n",
    "    if hour in range(6,12):\n",
    "        return 1\n",
    "    elif hour in range(12,18):\n",
    "        return 2\n",
    "    elif hour in range(18,24):\n",
    "        return 3\n",
    "    elif hour in range(0,6):\n",
    "        return 4"
   ]
  },
  {
   "cell_type": "code",
   "execution_count": 11,
   "metadata": {},
   "outputs": [],
   "source": [
    "bike_rentals['time_label'] = bike_rentals['hr'].apply(assign_label)\n",
    "bike_rentals = bike_rentals.drop(columns=['hr'])"
   ]
  },
  {
   "cell_type": "code",
   "execution_count": 12,
   "metadata": {},
   "outputs": [
    {
     "data": {
      "text/html": [
       "<div>\n",
       "<style scoped>\n",
       "    .dataframe tbody tr th:only-of-type {\n",
       "        vertical-align: middle;\n",
       "    }\n",
       "\n",
       "    .dataframe tbody tr th {\n",
       "        vertical-align: top;\n",
       "    }\n",
       "\n",
       "    .dataframe thead th {\n",
       "        text-align: right;\n",
       "    }\n",
       "</style>\n",
       "<table border=\"1\" class=\"dataframe\">\n",
       "  <thead>\n",
       "    <tr style=\"text-align: right;\">\n",
       "      <th></th>\n",
       "      <th>season</th>\n",
       "      <th>yr</th>\n",
       "      <th>mnth</th>\n",
       "      <th>holiday</th>\n",
       "      <th>weekday</th>\n",
       "      <th>workingday</th>\n",
       "      <th>weathersit</th>\n",
       "      <th>atemp</th>\n",
       "      <th>hum</th>\n",
       "      <th>windspeed</th>\n",
       "      <th>cnt</th>\n",
       "      <th>time_label</th>\n",
       "    </tr>\n",
       "  </thead>\n",
       "  <tbody>\n",
       "    <tr>\n",
       "      <th>0</th>\n",
       "      <td>1</td>\n",
       "      <td>0</td>\n",
       "      <td>1</td>\n",
       "      <td>0</td>\n",
       "      <td>6</td>\n",
       "      <td>0</td>\n",
       "      <td>1</td>\n",
       "      <td>0.2879</td>\n",
       "      <td>0.81</td>\n",
       "      <td>0.0</td>\n",
       "      <td>16</td>\n",
       "      <td>4</td>\n",
       "    </tr>\n",
       "    <tr>\n",
       "      <th>1</th>\n",
       "      <td>1</td>\n",
       "      <td>0</td>\n",
       "      <td>1</td>\n",
       "      <td>0</td>\n",
       "      <td>6</td>\n",
       "      <td>0</td>\n",
       "      <td>1</td>\n",
       "      <td>0.2727</td>\n",
       "      <td>0.80</td>\n",
       "      <td>0.0</td>\n",
       "      <td>40</td>\n",
       "      <td>4</td>\n",
       "    </tr>\n",
       "    <tr>\n",
       "      <th>2</th>\n",
       "      <td>1</td>\n",
       "      <td>0</td>\n",
       "      <td>1</td>\n",
       "      <td>0</td>\n",
       "      <td>6</td>\n",
       "      <td>0</td>\n",
       "      <td>1</td>\n",
       "      <td>0.2727</td>\n",
       "      <td>0.80</td>\n",
       "      <td>0.0</td>\n",
       "      <td>32</td>\n",
       "      <td>4</td>\n",
       "    </tr>\n",
       "    <tr>\n",
       "      <th>3</th>\n",
       "      <td>1</td>\n",
       "      <td>0</td>\n",
       "      <td>1</td>\n",
       "      <td>0</td>\n",
       "      <td>6</td>\n",
       "      <td>0</td>\n",
       "      <td>1</td>\n",
       "      <td>0.2879</td>\n",
       "      <td>0.75</td>\n",
       "      <td>0.0</td>\n",
       "      <td>13</td>\n",
       "      <td>4</td>\n",
       "    </tr>\n",
       "    <tr>\n",
       "      <th>4</th>\n",
       "      <td>1</td>\n",
       "      <td>0</td>\n",
       "      <td>1</td>\n",
       "      <td>0</td>\n",
       "      <td>6</td>\n",
       "      <td>0</td>\n",
       "      <td>1</td>\n",
       "      <td>0.2879</td>\n",
       "      <td>0.75</td>\n",
       "      <td>0.0</td>\n",
       "      <td>1</td>\n",
       "      <td>4</td>\n",
       "    </tr>\n",
       "  </tbody>\n",
       "</table>\n",
       "</div>"
      ],
      "text/plain": [
       "   season  yr  mnth  holiday  weekday  workingday  weathersit   atemp   hum  \\\n",
       "0       1   0     1        0        6           0           1  0.2879  0.81   \n",
       "1       1   0     1        0        6           0           1  0.2727  0.80   \n",
       "2       1   0     1        0        6           0           1  0.2727  0.80   \n",
       "3       1   0     1        0        6           0           1  0.2879  0.75   \n",
       "4       1   0     1        0        6           0           1  0.2879  0.75   \n",
       "\n",
       "   windspeed  cnt  time_label  \n",
       "0        0.0   16           4  \n",
       "1        0.0   40           4  \n",
       "2        0.0   32           4  \n",
       "3        0.0   13           4  \n",
       "4        0.0    1           4  "
      ]
     },
     "execution_count": 12,
     "metadata": {},
     "output_type": "execute_result"
    }
   ],
   "source": [
    "bike_rentals.head()"
   ]
  },
  {
   "cell_type": "markdown",
   "metadata": {},
   "source": [
    "## 2. Applying ML Models\n",
    "Before we apply the ML models to the data we split  it in train and test sets. By default, scikit-learn will make random partitions for the two subsets. However, we can also specify a random state for the operation."
   ]
  },
  {
   "cell_type": "code",
   "execution_count": 13,
   "metadata": {},
   "outputs": [],
   "source": [
    "import sklearn.model_selection as model_selection\n",
    "\n",
    "train, test = model_selection.train_test_split(bike_rentals, train_size=0.8,test_size=0.2, random_state=1)"
   ]
  },
  {
   "cell_type": "code",
   "execution_count": 14,
   "metadata": {},
   "outputs": [
    {
     "name": "stdout",
     "output_type": "stream",
     "text": [
      "17379\n",
      "17379\n"
     ]
    }
   ],
   "source": [
    "# \"sanity check\" to see if the length is as expected\n",
    "print(bike_rentals.shape[0])\n",
    "print(train.shape[0] + test.shape[0])"
   ]
  },
  {
   "cell_type": "markdown",
   "metadata": {},
   "source": [
    "Since we have removed in the last section all the unecessary columns, we can define our features and target as folows:"
   ]
  },
  {
   "cell_type": "code",
   "execution_count": 15,
   "metadata": {},
   "outputs": [],
   "source": [
    "features = bike_rentals.columns.tolist()\n",
    "features.remove('cnt')\n",
    "target = 'cnt'"
   ]
  },
  {
   "cell_type": "code",
   "execution_count": 16,
   "metadata": {},
   "outputs": [
    {
     "data": {
      "text/plain": [
       "['season',\n",
       " 'yr',\n",
       " 'mnth',\n",
       " 'holiday',\n",
       " 'weekday',\n",
       " 'workingday',\n",
       " 'weathersit',\n",
       " 'atemp',\n",
       " 'hum',\n",
       " 'windspeed',\n",
       " 'time_label']"
      ]
     },
     "execution_count": 16,
     "metadata": {},
     "output_type": "execute_result"
    }
   ],
   "source": [
    "features"
   ]
  },
  {
   "cell_type": "markdown",
   "metadata": {},
   "source": [
    "### 2.1 Linear Regression\n",
    "At first we apply a linear regression model with different features. For the error metric we use RMSE, which represents the sample standard deviation of the differences between predicted values and observed values. We cannot use ROC-AUC score here as we are trying to solve a regression and not a classification."
   ]
  },
  {
   "cell_type": "code",
   "execution_count": 17,
   "metadata": {},
   "outputs": [
    {
     "name": "stdout",
     "output_type": "stream",
     "text": [
      "Train RMSE: 138.68470430290174\n",
      "Test RMSE: 139.99498883893978\n"
     ]
    }
   ],
   "source": [
    "from sklearn.linear_model import LinearRegression\n",
    "from sklearn.metrics import mean_squared_error\n",
    "\n",
    "model = LinearRegression()\n",
    "model.fit(train[features], train[target])\n",
    "\n",
    "train_predictions = model.predict(train[features])\n",
    "test_predictions = model.predict(test[features])\n",
    "\n",
    "train_rmse = mean_squared_error(train[target],train_predictions) ** (1/2)\n",
    "test_rmse = mean_squared_error(test[target],test_predictions) ** (1/2)\n",
    "\n",
    "print('Train RMSE:',train_rmse)\n",
    "print('Test RMSE:',test_rmse)"
   ]
  },
  {
   "cell_type": "markdown",
   "metadata": {},
   "source": [
    "Both predictions for train and test have very similar errors"
   ]
  },
  {
   "cell_type": "markdown",
   "metadata": {},
   "source": [
    "### 2.2 Decision Tree\n",
    "Now we test performance for the same features using a Decision Tree model"
   ]
  },
  {
   "cell_type": "code",
   "execution_count": 18,
   "metadata": {},
   "outputs": [
    {
     "name": "stdout",
     "output_type": "stream",
     "text": [
      "Train RMSE: 26.089443581428664\n",
      "Test RMSE: 153.57735425488667\n"
     ]
    }
   ],
   "source": [
    "from sklearn.tree import DecisionTreeClassifier\n",
    "\n",
    "clf = DecisionTreeClassifier(random_state=1)\n",
    "clf.fit(train[features], train[target])\n",
    "\n",
    "train_predictions = clf.predict(train[features])\n",
    "test_predictions = clf.predict(test[features])\n",
    "\n",
    "train_rmse = mean_squared_error(train[target],train_predictions) ** (1/2)\n",
    "test_rmse = mean_squared_error(test[target],test_predictions) ** (1/2)\n",
    "\n",
    "print('Train RMSE:',train_rmse)\n",
    "print('Test RMSE:',test_rmse)"
   ]
  },
  {
   "cell_type": "markdown",
   "metadata": {},
   "source": [
    "In this case the train prediction has a very low error, but the test prediction has a much higher one - which clearly shows that the model is **overfitting**"
   ]
  },
  {
   "cell_type": "markdown",
   "metadata": {},
   "source": [
    "### 2.3 Random Forests\n",
    "Here we use a Random Forest model, which is a much more complex model and improves the decision tree algorithm. Random forests tend to be much more accurate than simple models like linear regression and overfit less than simple Decision Trees"
   ]
  },
  {
   "cell_type": "code",
   "execution_count": 19,
   "metadata": {},
   "outputs": [
    {
     "name": "stdout",
     "output_type": "stream",
     "text": [
      "Train RMSE: 101.77792186272643\n",
      "Test RMSE: 148.77524154617637\n"
     ]
    }
   ],
   "source": [
    "from sklearn.ensemble import RandomForestClassifier\n",
    "\n",
    "clf2 = RandomForestClassifier(n_estimators=10, random_state=1, min_samples_leaf=10)\n",
    "\n",
    "clf2.fit(train[features], train[target])\n",
    "\n",
    "train_predictions = clf2.predict(train[features])\n",
    "test_predictions = clf2.predict(test[features])\n",
    "\n",
    "train_rmse = mean_squared_error(train[target],train_predictions) ** (1/2)\n",
    "test_rmse = mean_squared_error(test[target],test_predictions) ** (1/2)\n",
    "\n",
    "print('Train RMSE:',train_rmse)\n",
    "print('Test RMSE:',test_rmse)"
   ]
  },
  {
   "cell_type": "markdown",
   "metadata": {},
   "source": [
    "## 3. Applying ML Models for Different Features Groups\n",
    "Here we try running each of the models for different groups of features - from one (highest correlation) to n (all features)"
   ]
  },
  {
   "cell_type": "code",
   "execution_count": 20,
   "metadata": {},
   "outputs": [],
   "source": [
    "# all columns sorted from highest to lowest correlation to cnt\n",
    "corr_all = bike_rentals.corr()\n",
    "corr_cnt = corr_all.cnt\n",
    "corr_cnt = corr_cnt.abs()\n",
    "sorted_corrs = corr_cnt.sort_values(ascending=False)"
   ]
  },
  {
   "cell_type": "code",
   "execution_count": 21,
   "metadata": {},
   "outputs": [],
   "source": [
    "features = sorted_corrs.index.tolist()\n",
    "features = features[1:]\n",
    "target = 'cnt'"
   ]
  },
  {
   "cell_type": "markdown",
   "metadata": {},
   "source": [
    "### 3.1 Linear Regression"
   ]
  },
  {
   "cell_type": "code",
   "execution_count": 22,
   "metadata": {},
   "outputs": [
    {
     "name": "stdout",
     "output_type": "stream",
     "text": [
      "1 features - train RMSE: 165.94002953068124 - test RMSE: 167.06817058160027 \n",
      "2 features - train RMSE: 152.74406057735817 - test RMSE: 154.60614876502132 \n",
      "3 features - train RMSE: 145.63521192096692 - test RMSE: 147.4115770853766 \n",
      "4 features - train RMSE: 140.424535529987 - test RMSE: 141.25352174999034 \n",
      "5 features - train RMSE: 138.90163416629022 - test RMSE: 140.15339649709398 \n",
      "6 features - train RMSE: 138.89248005006326 - test RMSE: 140.16815161924643 \n",
      "7 features - train RMSE: 138.89148467368204 - test RMSE: 140.16604595700977 \n",
      "8 features - train RMSE: 138.83854261853227 - test RMSE: 140.01724873852953 \n",
      "9 features - train RMSE: 138.7438646845343 - test RMSE: 140.04700964343152 \n",
      "10 features - train RMSE: 138.73390020557275 - test RMSE: 140.02656413655998 \n",
      "11 features - train RMSE: 138.68470430290174 - test RMSE: 139.99498883893978 \n"
     ]
    }
   ],
   "source": [
    "current_features = []\n",
    "lr_rmse_list = []\n",
    "for f in features:\n",
    "    current_features.append(f)\n",
    "    \n",
    "    model = LinearRegression()\n",
    "    model.fit(train[current_features], train[target])\n",
    "\n",
    "    train_predictions = model.predict(train[current_features])\n",
    "    test_predictions = model.predict(test[current_features])\n",
    "\n",
    "    train_rmse = mean_squared_error(train[target],train_predictions) ** (1/2)\n",
    "    test_rmse = mean_squared_error(test[target],test_predictions) ** (1/2)\n",
    "    \n",
    "    print('{} features - train RMSE: {} - test RMSE: {} '.format(len(current_features),train_rmse,test_rmse))\n",
    "    \n",
    "    lr_rmse_list.append(test_rmse)"
   ]
  },
  {
   "cell_type": "markdown",
   "metadata": {},
   "source": [
    "### 3.2 Decision Tree"
   ]
  },
  {
   "cell_type": "code",
   "execution_count": 23,
   "metadata": {},
   "outputs": [
    {
     "name": "stdout",
     "output_type": "stream",
     "text": [
      "1 features - train RMSE: 237.57064826715282 - test RMSE: 239.12653915055515 \n",
      "2 features - train RMSE: 179.38579886637547 - test RMSE: 181.60353541065183 \n",
      "3 features - train RMSE: 174.84059899571926 - test RMSE: 185.8323932094129 \n",
      "4 features - train RMSE: 152.6412019936596 - test RMSE: 166.2384140299542 \n",
      "5 features - train RMSE: 126.43449378979062 - test RMSE: 156.6318833857923 \n",
      "6 features - train RMSE: 108.91799159479882 - test RMSE: 155.54932171007658 \n",
      "7 features - train RMSE: 84.63345195412565 - test RMSE: 151.71234553675046 \n",
      "8 features - train RMSE: 35.76494868360347 - test RMSE: 157.52192205008205 \n",
      "9 features - train RMSE: 35.504290282970686 - test RMSE: 161.13494012722495 \n",
      "10 features - train RMSE: 31.463100712838685 - test RMSE: 154.30613094861596 \n",
      "11 features - train RMSE: 26.089443581428664 - test RMSE: 154.08536707041458 \n"
     ]
    }
   ],
   "source": [
    "current_features = []\n",
    "dt_rmse_list = []\n",
    "for f in features:\n",
    "    current_features.append(f)\n",
    "    \n",
    "    clf = DecisionTreeClassifier(random_state=1)\n",
    "    clf.fit(train[current_features], train[target])\n",
    "\n",
    "    train_predictions = clf.predict(train[current_features])\n",
    "    test_predictions = clf.predict(test[current_features])\n",
    "\n",
    "    train_rmse = mean_squared_error(train[target],train_predictions) ** (1/2)\n",
    "    test_rmse = mean_squared_error(test[target],test_predictions) ** (1/2)\n",
    "    \n",
    "    print('{} features - train RMSE: {} - test RMSE: {} '.format(len(current_features),train_rmse,test_rmse))\n",
    "    \n",
    "    dt_rmse_list.append(test_rmse)"
   ]
  },
  {
   "cell_type": "markdown",
   "metadata": {},
   "source": [
    "### 3.3 Random Forests"
   ]
  },
  {
   "cell_type": "code",
   "execution_count": 24,
   "metadata": {},
   "outputs": [
    {
     "name": "stdout",
     "output_type": "stream",
     "text": [
      "1 features - train RMSE: 229.14844595927306 - test RMSE: 230.4837304453397 \n",
      "2 features - train RMSE: 163.24764887868295 - test RMSE: 162.85597638674233 \n",
      "3 features - train RMSE: 163.36942298526856 - test RMSE: 182.42199256584058 \n",
      "4 features - train RMSE: 141.78809992687903 - test RMSE: 165.24294716577836 \n",
      "5 features - train RMSE: 125.0730630174617 - test RMSE: 159.17739487117726 \n",
      "6 features - train RMSE: 111.992268873436 - test RMSE: 156.44140474480227 \n",
      "7 features - train RMSE: 97.98612152498082 - test RMSE: 153.1458855322795 \n",
      "8 features - train RMSE: 65.81614117623154 - test RMSE: 157.84835441633456 \n",
      "9 features - train RMSE: 62.21593664057131 - test RMSE: 155.19813517647518 \n",
      "10 features - train RMSE: 59.35762666171552 - test RMSE: 149.99279902162945 \n",
      "11 features - train RMSE: 53.91283146996212 - test RMSE: 146.29793972971714 \n"
     ]
    }
   ],
   "source": [
    "current_features = []\n",
    "rf_rmse_list = []\n",
    "for f in features:\n",
    "    current_features.append(f)\n",
    "    \n",
    "    clf2 = RandomForestClassifier(n_estimators=10, random_state=1, min_samples_leaf=2)\n",
    "    clf2.fit(train[current_features], train[target])\n",
    "\n",
    "    train_predictions = clf2.predict(train[current_features])\n",
    "    test_predictions = clf2.predict(test[current_features])\n",
    "\n",
    "    train_rmse = mean_squared_error(train[target],train_predictions) ** (1/2)\n",
    "    test_rmse = mean_squared_error(test[target],test_predictions) ** (1/2)\n",
    "    \n",
    "    print('{} features - train RMSE: {} - test RMSE: {} '.format(len(current_features),train_rmse,test_rmse))\n",
    "    \n",
    "    rf_rmse_list.append(test_rmse)"
   ]
  },
  {
   "cell_type": "code",
   "execution_count": 25,
   "metadata": {},
   "outputs": [
    {
     "data": {
      "image/png": "[encoded data removed]",
      "text/plain": [
       "<Figure size 576x288 with 1 Axes>"
      ]
     },
     "metadata": {
      "needs_background": "light"
     },
     "output_type": "display_data"
    }
   ],
   "source": [
    "import matplotlib.pyplot as plt\n",
    "fig=plt.figure(figsize=(8,4))\n",
    "plt.plot(lr_rmse_list, color='red', label='Linear Regression')\n",
    "plt.plot(dt_rmse_list, color='green', label='Decision Tree')\n",
    "plt.plot(rf_rmse_list, color='brown', label='Random Forest')\n",
    "plt.legend(loc='upper right')\n",
    "plt.grid()\n",
    "plt.show()"
   ]
  },
  {
   "cell_type": "markdown",
   "metadata": {},
   "source": [
    "The plot shows that Linear Regression has better results (smaller RMSEs) for all feature combinations"
   ]
  }
 ],
 "metadata": {
  "kernelspec": {
   "display_name": "Python 3",
   "language": "python",
   "name": "python3"
  },
  "language_info": {
   "codemirror_mode": {
    "name": "ipython",
    "version": 3
   },
   "file_extension": ".py",
   "mimetype": "text/x-python",
   "name": "python",
   "nbconvert_exporter": "python",
   "pygments_lexer": "ipython3",
   "version": "3.6.9"
  }
 },
 "nbformat": 4,
 "nbformat_minor": 2
}
